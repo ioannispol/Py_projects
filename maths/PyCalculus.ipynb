{
 "cells": [
  {
   "cell_type": "markdown",
   "metadata": {},
   "source": [
    "# A derivative Calculator"
   ]
  },
  {
   "cell_type": "markdown",
   "metadata": {},
   "source": [
    "### Assumtions in Sympy\n",
    "In all programms using the *sympy* library, we create a *Symbol* object which defines the variable like so: \"x = Symbol('x')\"."
   ]
  },
  {
   "cell_type": "code",
   "execution_count": 1,
   "metadata": {},
   "outputs": [],
   "source": [
    "from sympy import Symbol, Derivative, sympify, pprint\n",
    "from sympy.core.sympify import SympifyError"
   ]
  },
  {
   "cell_type": "code",
   "execution_count": 2,
   "metadata": {},
   "outputs": [],
   "source": [
    "def derivative(f, var):\n",
    "    var = Symbol(var)\n",
    "    d = Derivative(f, var).doit()\n",
    "    pprint(d)\n",
    "    "
   ]
  },
  {
   "cell_type": "code",
   "execution_count": 8,
   "metadata": {},
   "outputs": [
    {
     "name": "stdout",
     "output_type": "stream",
     "text": [
      "Enter a function: 2*x*y + x*y**2\n",
      "Enter the variable to differenciate with respect to: x\n",
      " 2      \n",
      "y  + 2⋅y\n"
     ]
    }
   ],
   "source": [
    "if __name__ == '__main__':\n",
    "    f = input(\"Enter a function: \")\n",
    "    var = input(\"Enter the variable to differenciate with respect to: \")\n",
    "    try:\n",
    "        f = sympify(f)\n",
    "    except SympifyError:\n",
    "        print(\"Invalid input\")\n",
    "    else:\n",
    "        derivative(f, var)"
   ]
  },
  {
   "cell_type": "code",
   "execution_count": 9,
   "metadata": {},
   "outputs": [
    {
     "data": {
      "text/latex": [
       "$\\displaystyle \\frac{\\partial}{\\partial x} \\left(x y^{2} + 2 x y\\right)$"
      ],
      "text/plain": [
       "Derivative(x*y**2 + 2*x*y, x)"
      ]
     },
     "execution_count": 9,
     "metadata": {},
     "output_type": "execute_result"
    }
   ],
   "source": [
    "Derivative(f, var)"
   ]
  },
  {
   "cell_type": "code",
   "execution_count": 10,
   "metadata": {},
   "outputs": [
    {
     "data": {
      "text/latex": [
       "$\\displaystyle y^{2} + 2 y$"
      ],
      "text/plain": [
       "y**2 + 2*y"
      ]
     },
     "execution_count": 10,
     "metadata": {},
     "output_type": "execute_result"
    }
   ],
   "source": [
    "d = Derivative(f, var)\n",
    "d.doit()"
   ]
  },
  {
   "cell_type": "markdown",
   "metadata": {},
   "source": [
    "## Calculating Partial Derivatives"
   ]
  },
  {
   "cell_type": "code",
   "execution_count": 11,
   "metadata": {},
   "outputs": [],
   "source": [
    "\"\"\"Use Gradient ascent to find the angle at which the projectile has \n",
    "maximum range for a fixefd velocity, 25 m/s\"\"\"\n",
    "\n",
    "import math\n",
    "from sympy import Derivative, Symbol, sin "
   ]
  },
  {
   "cell_type": "code",
   "execution_count": 12,
   "metadata": {},
   "outputs": [],
   "source": [
    "def grad_ascent(x0, f1x, x):\n",
    "    epsilon = 1e-6\n",
    "    step_size = 1e-4\n",
    "    x_old = x0\n",
    "    x_new = x_old + step_size*f1x.subs({x:x_old}).evalf()\n",
    "    while abs(x_old - x_new) > epsilon:\n",
    "        x_old = x_new\n",
    "        x_new = x_old + step_size*f1x.subs({x:x_old}).evalf()\n",
    "    \n",
    "    return x_new"
   ]
  },
  {
   "cell_type": "code",
   "execution_count": 13,
   "metadata": {},
   "outputs": [],
   "source": [
    "def find_max_theta(R, theta):\n",
    "    # Calculate the first derivative\n",
    "    R1theta = Derivative(R, theta).doit()\n",
    "    theta0 = 1e-3\n",
    "    theta_max = grad_ascent(theta0, R1theta, theta)\n",
    "    return theta_max"
   ]
  },
  {
   "cell_type": "code",
   "execution_count": 15,
   "metadata": {},
   "outputs": [
    {
     "name": "stdout",
     "output_type": "stream",
     "text": [
      "Theta: 44.997848278536445\n",
      "Max range: 63.7104993106078\n"
     ]
    }
   ],
   "source": [
    "if __name__ == '__main__':\n",
    "    g = 9.81\n",
    "    # Assume initial velocity\n",
    "    u = 25\n",
    "    # Expression for range\n",
    "    theta = Symbol('theta')\n",
    "    R = u**2 * sin(2*theta) / g\n",
    "    \n",
    "    theta_max = find_max_theta(R, theta)\n",
    "    print(\"Theta: {0}\".format(math.degrees(theta_max)))\n",
    "    print(\"Max range: {0}\".format(R.subs({theta:theta_max})))"
   ]
  },
  {
   "cell_type": "code",
   "execution_count": 16,
   "metadata": {},
   "outputs": [],
   "source": [
    "from math import pi"
   ]
  },
  {
   "cell_type": "code",
   "execution_count": 17,
   "metadata": {},
   "outputs": [],
   "source": [
    "class Circle:    # For Python 2 use: \"class Circle(object):\"\n",
    "    \"\"\"A Circle instance models a circle with a radius\"\"\"\n",
    " \n",
    "    def __init__(self, radius=1.0):\n",
    "        \"\"\"Initializer with default radius of 1.0\"\"\"\n",
    "        self.radius = radius  # Create an instance variable radius\n",
    " \n",
    "    def __str__(self):\n",
    "        \"\"\"Return a descriptive string for this instance, invoked by print() and str()\"\"\"\n",
    "        return 'This is a circle with radius of {:.2f}'.format(self.radius)\n",
    " \n",
    "    def __repr__(self):\n",
    "        \"\"\"Return a formal string that can be used to re-create this instance, invoked by repr()\"\"\"\n",
    "        return 'Circle(radius={})'.format(self.radius)\n",
    " \n",
    "    def get_area(self):\n",
    "        \"\"\"Return the area of this Circle instance\"\"\"\n",
    "        return self.radius * self.radius * pi"
   ]
  },
  {
   "cell_type": "code",
   "execution_count": 18,
   "metadata": {},
   "outputs": [
    {
     "name": "stdout",
     "output_type": "stream",
     "text": [
      "This is a circle with radius of 2.10\n",
      "13.854423602330987\n",
      "2.1\n",
      "This is a circle with radius of 2.10\n",
      "Circle(radius=2.1)\n",
      "This is a circle with radius of 1.00\n",
      "3.141592653589793\n",
      "red\n",
      "Use Gradient ascent to find the angle at which the projectile has \n",
      "maximum range for a fixefd velocity, 25 m/s\n",
      "A Circle instance models a circle with a radius\n",
      "Return the area of this Circle instance\n",
      "True\n",
      "True\n",
      "False\n"
     ]
    }
   ],
   "source": [
    "# For Testing under Python interpreter\n",
    "# If this module is run under Python interpreter, __name__ is '__main__'.\n",
    "# If this module is imported into another module, __name__ is 'circle' (the module name).\n",
    "if __name__ == '__main__':\n",
    "    c1 = Circle(2.1)      # Construct an instance\n",
    "    print(c1)             # Invoke __str__(): This is a circle with radius of 2.10\n",
    "    print(c1.get_area())  # 13.854423602330987\n",
    "    print(c1.radius)      # 2.1\n",
    "    print(str(c1))        # Invoke __str__(): This is a circle with radius of 2.10\n",
    "    print(repr(c1))       # Invoke __repr__(): Circle(radius=2.1)\n",
    "\n",
    "    c2 = Circle()         # Default radius\n",
    "    print(c2)\n",
    "    print(c2.get_area())  # Invoke member method\n",
    " \n",
    "    c2.color = 'red'  # Create a new attribute for this instance via assignment\n",
    "    print(c2.color)\n",
    "    #print(c1.color)  # Error - c1 has no attribute color\n",
    " \n",
    "    # Test doc-strings\n",
    "    print(__doc__)                  # This module\n",
    "    print(Circle.__doc__)           # Circle class\n",
    "    print(Circle.get_area.__doc__)  # get_area() method\n",
    " \n",
    "    print(isinstance(c1, Circle)) # True\n",
    "    print(isinstance(c2, Circle)) # True\n",
    "    print(isinstance(c1, str))    # False"
   ]
  },
  {
   "cell_type": "code",
   "execution_count": 19,
   "metadata": {},
   "outputs": [
    {
     "data": {
      "text/plain": [
       "['Circle',\n",
       " 'Derivative',\n",
       " 'In',\n",
       " 'Out',\n",
       " 'R',\n",
       " 'Symbol',\n",
       " 'SympifyError',\n",
       " '_',\n",
       " '_10',\n",
       " '_4',\n",
       " '_5',\n",
       " '_7',\n",
       " '_9',\n",
       " '__',\n",
       " '___',\n",
       " '__builtin__',\n",
       " '__builtins__',\n",
       " '__doc__',\n",
       " '__loader__',\n",
       " '__name__',\n",
       " '__package__',\n",
       " '__spec__',\n",
       " '_dh',\n",
       " '_i',\n",
       " '_i1',\n",
       " '_i10',\n",
       " '_i11',\n",
       " '_i12',\n",
       " '_i13',\n",
       " '_i14',\n",
       " '_i15',\n",
       " '_i16',\n",
       " '_i17',\n",
       " '_i18',\n",
       " '_i19',\n",
       " '_i2',\n",
       " '_i3',\n",
       " '_i4',\n",
       " '_i5',\n",
       " '_i6',\n",
       " '_i7',\n",
       " '_i8',\n",
       " '_i9',\n",
       " '_ih',\n",
       " '_ii',\n",
       " '_iii',\n",
       " '_oh',\n",
       " 'c1',\n",
       " 'c2',\n",
       " 'd',\n",
       " 'derivative',\n",
       " 'exit',\n",
       " 'f',\n",
       " 'find_max_theta',\n",
       " 'g',\n",
       " 'get_ipython',\n",
       " 'grad_ascent',\n",
       " 'math',\n",
       " 'pi',\n",
       " 'pprint',\n",
       " 'quit',\n",
       " 'sin',\n",
       " 'sympify',\n",
       " 'theta',\n",
       " 'theta_max',\n",
       " 'u',\n",
       " 'var']"
      ]
     },
     "execution_count": 19,
     "metadata": {},
     "output_type": "execute_result"
    }
   ],
   "source": [
    "dir()"
   ]
  },
  {
   "cell_type": "code",
   "execution_count": 20,
   "metadata": {},
   "outputs": [
    {
     "ename": "NameError",
     "evalue": "name 'np' is not defined",
     "output_type": "error",
     "traceback": [
      "\u001b[1;31m---------------------------------------------------------------------------\u001b[0m",
      "\u001b[1;31mNameError\u001b[0m                                 Traceback (most recent call last)",
      "\u001b[1;32m<ipython-input-20-c26bdf5decbe>\u001b[0m in \u001b[0;36m<module>\u001b[1;34m\u001b[0m\n\u001b[1;32m----> 1\u001b[1;33m \u001b[0mnp\u001b[0m\u001b[1;33m.\u001b[0m\u001b[0minfo\u001b[0m\u001b[1;33m(\u001b[0m\u001b[0moptimize\u001b[0m\u001b[1;33m.\u001b[0m\u001b[0mfmin\u001b[0m\u001b[1;33m)\u001b[0m\u001b[1;33m\u001b[0m\u001b[1;33m\u001b[0m\u001b[0m\n\u001b[0m",
      "\u001b[1;31mNameError\u001b[0m: name 'np' is not defined"
     ]
    }
   ],
   "source": [
    "np.info(optimize.fmin)"
   ]
  },
  {
   "cell_type": "code",
   "execution_count": null,
   "metadata": {},
   "outputs": [],
   "source": []
  }
 ],
 "metadata": {
  "kernelspec": {
   "display_name": "Python 3",
   "language": "python",
   "name": "python3"
  },
  "language_info": {
   "codemirror_mode": {
    "name": "ipython",
    "version": 3
   },
   "file_extension": ".py",
   "mimetype": "text/x-python",
   "name": "python",
   "nbconvert_exporter": "python",
   "pygments_lexer": "ipython3",
   "version": "3.8.3"
  }
 },
 "nbformat": 4,
 "nbformat_minor": 4
}
